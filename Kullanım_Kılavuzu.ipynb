{
  "nbformat": 4,
  "nbformat_minor": 0,
  "metadata": {
    "colab": {
      "provenance": [],
      "collapsed_sections": [
        "DHYHxbZCDFA5",
        "F9pviynjTUrf",
        "LJct2sO0CIh-"
      ],
      "gpuType": "A100",
      "machine_shape": "hm"
    },
    "kernelspec": {
      "name": "python3",
      "display_name": "Python 3"
    },
    "language_info": {
      "name": "python"
    },
    "accelerator": "GPU"
  },
  "cells": [
    {
      "cell_type": "markdown",
      "source": [
        "# **Github Klonlama**"
      ],
      "metadata": {
        "id": "DHYHxbZCDFA5"
      }
    },
    {
      "cell_type": "code",
      "source": [
        "!git clone https://github.com/Dogukankiyiklik/ESOGU_CENG_Neural_Networks-Anomaly_Detection.git"
      ],
      "metadata": {
        "id": "WOfwR58mDIdJ"
      },
      "execution_count": null,
      "outputs": []
    },
    {
      "cell_type": "markdown",
      "source": [
        "# **Gereksinimlerin Kurulumu**"
      ],
      "metadata": {
        "id": "F9pviynjTUrf"
      }
    },
    {
      "cell_type": "code",
      "source": [
        "!pip install anomalib[full] gradio --quiet"
      ],
      "metadata": {
        "id": "-h2OLYmCTYnK"
      },
      "execution_count": null,
      "outputs": []
    },
    {
      "cell_type": "markdown",
      "source": [
        "# **Ön İşleme**\n",
        "\n",
        "Ben ahşap verilerine halihazırda bir ön işleme yaptım ve tüm verileri github'a koydum. Modelleri çalıştırmak için sizin ön işlem yapmanıza gerek yok. Fakat denemek isterseniz şu yolları takip edin:\n",
        "\n",
        "*   preprocessed.py dosyasını açın.\n",
        "*   79. satırdaki \"original_base_path\" değişkenini wood_dataset'in olduğu dizinle değiştirin.\n",
        "*   80. satırdaki \"preprocessed_base_path\" değişkenini ön işleme uğramış olan verileri istediğiniz yere kaydedileceği dizin olarak değiştirin.\n",
        "*   Daha sonra aşağıdaki hücreyi çalıştırın.\n"
      ],
      "metadata": {
        "id": "LJct2sO0CIh-"
      }
    },
    {
      "cell_type": "code",
      "execution_count": null,
      "metadata": {
        "id": "lbjJdK0k-Cm5"
      },
      "outputs": [],
      "source": [
        "!python /content/ESOGU_CENG_Neural_Networks-Anomaly_Detection/preprocess.ipynb"
      ]
    },
    {
      "cell_type": "markdown",
      "source": [
        "# **Arayüz Çalıştırma**"
      ],
      "metadata": {
        "id": "T2C9pS0BNdaq"
      }
    },
    {
      "cell_type": "code",
      "source": [
        "!python /content/anomaly_detection/gradio_arayuz.py"
      ],
      "metadata": {
        "id": "0dytveR5T2Of"
      },
      "execution_count": null,
      "outputs": []
    }
  ]
}
